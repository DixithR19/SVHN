{
 "cells": [
  {
   "cell_type": "code",
   "execution_count": 1,
   "metadata": {},
   "outputs": [],
   "source": [
    "import h5py\n",
    "import time"
   ]
  },
  {
   "cell_type": "code",
   "execution_count": 2,
   "metadata": {
    "collapsed": true
   },
   "outputs": [],
   "source": [
    "class DigitStructWrapper:\n",
    "    \"\"\"\n",
    "    Wrapper for the H5PY digitStruct files from the SVHN dataset\n",
    "    Creates an array of Dictionaries containing filename and boundingBoxes parameter\n",
    "    Adapted from https://github.com/hangyao    \n",
    "    \n",
    "    \"\"\"\n",
    "    def __init__(self,path):\n",
    "        self.inf=h5py.File(path,'r') #reading the file to whom we will pass appropriate references to get the values\n",
    "        #here we are getting the HDf5 object references in one go, which we will give to self.inf to access individual elements\n",
    "        self.digitStructName=self.inf['digitStruct']['name']\n",
    "        self.digitStructBbox=self.inf['digitStruct']['bbox']\n",
    "    \n",
    "    def get_name(self,n):\n",
    "        \"\"\"\n",
    "        Returns the name of the nth image that we are trying to read and work on. Ex: \"1.png\" etc.\n",
    "        \"\"\"\n",
    "        #print([chr(c) for c in self.inf[self.digitStructName[n][0]].value])\n",
    "        return \"\".join([chr(c) for c in self.inf[self.digitStructName[n][0]].value])\n",
    "    def get_attribute(self,attr):\n",
    "        \"\"\"\n",
    "        This function returns a list of the attribute\n",
    "        \"\"\"\n",
    "        if (len(attr)>1):\n",
    "            attr=[self.inf[attr.value[j].item()].value[0][0] for j in range(len(attr))]\n",
    "        else:\n",
    "            attr=[attr.value[0][0]]\n",
    "        #print(self.inf[attr.value[j].item()].value[0][0] for j in range(len(attr)))\n",
    "        return attr\n",
    "    def get_bbox(self,n):\n",
    "        \"\"\"\n",
    "        this function returns a dictionary which consists the list of all the attributes of the bounding boxes of the nth image\n",
    "        \"\"\"\n",
    "        bbox={}\n",
    "        bb=self.digitStructBbox[n].item()\n",
    "        bbox['height']=self.get_attribute(self.inf[bb]['height'])\n",
    "        bbox['width']=self.get_attribute(self.inf[bb]['width'])\n",
    "        bbox['label']=self.get_attribute(self.inf[bb]['label'])\n",
    "        bbox['left']=self.get_attribute(self.inf[bb]['left'])\n",
    "        bbox['top']=self.get_attribute(self.inf[bb]['top'])\n",
    "        #print(bbox['height'])\n",
    "        return bbox\n",
    "    def get_item(self,n):\n",
    "        \"\"\"\n",
    "        This function returns a packed version of the bbox dictionary and filename in a bigger dictionary\n",
    "        \"\"\"\n",
    "        #print(\"Inside get item\")\n",
    "        packFilenameNdBbox=self.get_bbox(n)\n",
    "        packFilenameNdBbox['filename']=self.get_name(n)\n",
    "        #print(packFilenameNdBbox)\n",
    "        return packFilenameNdBbox\n",
    "    def unpack(self):\n",
    "        \"\"\"\n",
    "        This function returns list of all the dictionaries containing the information of individual Filenames and Bboxes\n",
    "        \"\"\"\n",
    "        print(\"inside the unpack function\")\n",
    "        return ([self.get_item(i) for i in range (len(self.digitStructName))])\n",
    "    def unpack_all(self):\n",
    "        \"\"\"\n",
    "        This function returns the array of dictionaries of each input image...kind of unpacking the whole input provide\n",
    "        \"\"\"\n",
    "        #start=time.time()\n",
    "        packedData=self.unpack()\n",
    "        #print(\"time elapsed for unpacking in minutes:\"+str((time.time()-start)/60.0))\n",
    "        print(\"Outside of Unpack\")\n",
    "        finalDictList=[]\n",
    "        for i in range(len(packedData)):\n",
    "            #print('Unpacking Image No:'+str(i))\n",
    "            item={'filename':packedData[i]['filename']}\n",
    "            DictList=[]\n",
    "            for j in range(len(packedData[i]['height'])):\n",
    "                dictOfAttributes={}\n",
    "                dictOfAttributes['height']=packedData[i]['height'][j]\n",
    "                dictOfAttributes['width']=packedData[i]['width'][j]\n",
    "                dictOfAttributes['left']=packedData[i]['left'][j]\n",
    "                dictOfAttributes['top']=packedData[i]['top'][j]\n",
    "                dictOfAttributes['label']=packedData[i]['label'][j]\n",
    "                DictList.append(dictOfAttributes)\n",
    "            item['boxes']=DictList\n",
    "            finalDictList.append(item)\n",
    "        return finalDictList"
   ]
  },
  {
   "cell_type": "code",
   "execution_count": 3,
   "metadata": {},
   "outputs": [
    {
     "name": "stdout",
     "output_type": "stream",
     "text": [
      "time elapsed for unpacking in minutes:3.273568912347158\n",
      "Outside of Unpack\n",
      "time elapsed for complete unpacking in minutes:3.2839386105537414\n"
     ]
    }
   ],
   "source": [
    "start=time.time()\n",
    "digitStructWrapper('data/train/digitStruct.mat').unpack_all()\n",
    "print(\"time elapsed for complete unpacking in minutes:\"+str((time.time()-start)/60.0))\n"
   ]
  },
  {
   "cell_type": "code",
   "execution_count": null,
   "metadata": {
    "collapsed": true
   },
   "outputs": [],
   "source": []
  },
  {
   "cell_type": "code",
   "execution_count": null,
   "metadata": {
    "collapsed": true
   },
   "outputs": [],
   "source": []
  }
 ],
 "metadata": {
  "kernelspec": {
   "display_name": "Python 3",
   "language": "python",
   "name": "python3"
  },
  "language_info": {
   "codemirror_mode": {
    "name": "ipython",
    "version": 3
   },
   "file_extension": ".py",
   "mimetype": "text/x-python",
   "name": "python",
   "nbconvert_exporter": "python",
   "pygments_lexer": "ipython3",
   "version": "3.5.2"
  }
 },
 "nbformat": 4,
 "nbformat_minor": 2
}
